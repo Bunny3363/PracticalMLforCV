{
 "cells": [
  {
   "cell_type": "markdown",
   "metadata": {},
   "source": [
    "## System GPU availability check"
   ]
  },
  {
   "cell_type": "code",
   "execution_count": 24,
   "metadata": {},
   "outputs": [
    {
     "name": "stdout",
     "output_type": "stream",
     "text": [
      "Tensorflow version:  2.10.0\n",
      "List of all phyiscal devices :\n",
      "[PhysicalDevice(name='/physical_device:CPU:0', device_type='CPU'), PhysicalDevice(name='/physical_device:GPU:0', device_type='GPU')]\n",
      "\n",
      "Found GPU at: /device:GPU:0\n",
      "Hurray!!! System GPU is built with Cuda!!!\n"
     ]
    }
   ],
   "source": [
    "import tensorflow as tf\n",
    "print('Tensorflow version: ', tf.version.VERSION)\n",
    "\n",
    "## Check for all the available devices\n",
    "print('List of all phyiscal devices :')\n",
    "print(tf.config.list_physical_devices())\n",
    "\n",
    "print('')\n",
    "device_name = tf.test.gpu_device_name()\n",
    "if device_name != '/device:GPU:0':\n",
    "    raise SystemError('GPU device not found')\n",
    "\n",
    "print('Found GPU at: {}'.format(device_name))\n",
    "\n",
    "if not tf.test.is_built_with_cuda():\n",
    "    print('GPU is not built with cuda')\n",
    "\n",
    "print('Hurray!!! System GPU is built with Cuda!!!')"
   ]
  },
  {
   "cell_type": "markdown",
   "metadata": {},
   "source": [
    "## Flowers Image Classification using a linear model\n",
    "\n",
    "# We'll be using a creative-commons licensed flower photo dataset (https://www.tensorflow.org/datasets/catalog/tf_flowers) of 3670 images falling into 5 categories: 'daisy', 'roses', 'dandelion', 'sunflowers', and 'tulips'\n",
    "\n",
    "# Data set is already placed in below Google cloud storage in puublic bucket:\n",
    "# gs://practical-ml-vision-book/flowers_5_jpeg/flower_photos/."
   ]
  },
  {
   "cell_type": "code",
   "execution_count": null,
   "metadata": {},
   "outputs": [],
   "source": []
  },
  {
   "cell_type": "code",
   "execution_count": null,
   "metadata": {},
   "outputs": [],
   "source": []
  }
 ],
 "metadata": {
  "kernelspec": {
   "display_name": "Python 3.9.13 ('ML_for_CV_env')",
   "language": "python",
   "name": "python3"
  },
  "language_info": {
   "codemirror_mode": {
    "name": "ipython",
    "version": 3
   },
   "file_extension": ".py",
   "mimetype": "text/x-python",
   "name": "python",
   "nbconvert_exporter": "python",
   "pygments_lexer": "ipython3",
   "version": "3.9.13"
  },
  "orig_nbformat": 4,
  "vscode": {
   "interpreter": {
    "hash": "611d449f950b67c94198710ca288a00f4f5d2d01eff03ef7212a550c2561d80b"
   }
  }
 },
 "nbformat": 4,
 "nbformat_minor": 2
}
